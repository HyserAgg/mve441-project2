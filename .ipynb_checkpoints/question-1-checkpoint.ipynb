{
 "cells": [
  {
   "cell_type": "markdown",
   "id": "fa4fae58-2167-4c98-92de-7d7898daff1f",
   "metadata": {},
   "source": [
    "# Question 1.1\n",
    "\n",
    "## Task 1\n",
    "1. Are there missing values? Look on the website of the data to see how missing values are coded.\n",
    "2. Compute the means and variances of the features (visualise in a histogram or with a kernel density estimate). Do they vary widely?\n",
    "3. Are there constant features?"
   ]
  }
 ],
 "metadata": {
  "kernelspec": {
   "display_name": "Python 3",
   "language": "python",
   "name": "python3"
  },
  "language_info": {
   "codemirror_mode": {
    "name": "ipython",
    "version": 3
   },
   "file_extension": ".py",
   "mimetype": "text/x-python",
   "name": "python",
   "nbconvert_exporter": "python",
   "pygments_lexer": "ipython3",
   "version": "3.8.10"
  }
 },
 "nbformat": 4,
 "nbformat_minor": 5
}
